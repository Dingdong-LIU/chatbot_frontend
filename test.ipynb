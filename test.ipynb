{
 "cells": [
  {
   "cell_type": "markdown",
   "metadata": {},
   "source": [
    "### Test Google ASR"
   ]
  },
  {
   "cell_type": "code",
   "execution_count": 6,
   "metadata": {},
   "outputs": [],
   "source": [
    "import argparse\n",
    "from google.cloud import speech\n",
    "\n",
    "\n",
    "def transcribe_file_with_auto_punctuation(path: str) -> speech.RecognizeResponse:\n",
    "    \"\"\"Transcribe the given audio file with auto punctuation enabled.\"\"\"\n",
    "    client = speech.SpeechClient()\n",
    "\n",
    "    # path = 'resources/commercial_mono.wav'\n",
    "    with open(path, \"rb\") as audio_file:\n",
    "        content = audio_file.read()\n",
    "\n",
    "    audio = speech.RecognitionAudio(content=content)\n",
    "    config = speech.RecognitionConfig(\n",
    "        encoding=speech.RecognitionConfig.AudioEncoding.LINEAR16,\n",
    "        # sample_rate_hertz=44100,\n",
    "        language_code=\"yue-HK\",\n",
    "        # Enable automatic punctuation\n",
    "        enable_automatic_punctuation=True,\n",
    "    )\n",
    "\n",
    "    response = client.recognize(config=config, audio=audio)\n",
    "\n",
    "    for i, result in enumerate(response.results):\n",
    "        alternative = result.alternatives[0]\n",
    "        print(\"-\" * 20)\n",
    "        print(f\"First alternative of result {i}\")\n",
    "        print(f\"Transcript: {alternative.transcript}\")\n",
    "\n",
    "    return response"
   ]
  },
  {
   "cell_type": "code",
   "execution_count": 7,
   "metadata": {},
   "outputs": [
    {
     "name": "stdout",
     "output_type": "stream",
     "text": [
      "--------------------\n",
      "First alternative of result 0\n",
      "Transcript: 你好你今日過得點呀\n"
     ]
    }
   ],
   "source": [
    "response = transcribe_file_with_auto_punctuation(\n",
    "    \"test.wav\"\n",
    ")"
   ]
  },
  {
   "cell_type": "code",
   "execution_count": 8,
   "metadata": {},
   "outputs": [
    {
     "data": {
      "text/plain": [
       "[alternatives {\n",
       "  transcript: \"你好你今日過得點呀\"\n",
       "  confidence: 0.933110237\n",
       "}\n",
       "result_end_time {\n",
       "  seconds: 2\n",
       "  nanos: 520000000\n",
       "}\n",
       "language_code: \"yue-hant-hk\"\n",
       "]"
      ]
     },
     "execution_count": 8,
     "metadata": {},
     "output_type": "execute_result"
    }
   ],
   "source": [
    "response.results"
   ]
  },
  {
   "cell_type": "code",
   "execution_count": 9,
   "metadata": {},
   "outputs": [],
   "source": [
    "def list_voices():\n",
    "    \"\"\"Lists the available voices.\"\"\"\n",
    "    from google.cloud import texttospeech\n",
    "\n",
    "    client = texttospeech.TextToSpeechClient()\n",
    "\n",
    "    # Performs the list voices request\n",
    "    voices = client.list_voices()\n",
    "\n",
    "    for voice in voices.voices:\n",
    "        # Display the voice's name. Example: tpc-vocoded\n",
    "        print(f\"Name: {voice.name}\")\n",
    "\n",
    "        # Display the supported language codes for this voice. Example: \"en-US\"\n",
    "        for language_code in voice.language_codes:\n",
    "            print(f\"Supported language: {language_code}\")\n",
    "\n",
    "        ssml_gender = texttospeech.SsmlVoiceGender(voice.ssml_gender)\n",
    "\n",
    "        # Display the SSML Voice Gender\n",
    "        print(f\"SSML Voice Gender: {ssml_gender.name}\")\n",
    "\n",
    "        # Display the natural sample rate hertz for this voice. Example: 24000\n",
    "        print(f\"Natural Sample Rate Hertz: {voice.natural_sample_rate_hertz}\\n\")\n",
    "    return voices"
   ]
  },
  {
   "cell_type": "code",
   "execution_count": 10,
   "metadata": {},
   "outputs": [],
   "source": [
    "from google.cloud import texttospeech\n",
    "\n",
    "\n",
    "def synthesize_text_with_audio_profile(text, output, effects_profile_id: str = \"\"):\n",
    "    \"\"\"Synthesizes speech from the input string of text.\"\"\"\n",
    "    client = texttospeech.TextToSpeechClient()\n",
    "\n",
    "    input_text = texttospeech.SynthesisInput(text=text)\n",
    "\n",
    "    # Note: the voice can also be specified by name.\n",
    "    # Names of voices can be retrieved with client.list_voices().\n",
    "    voice = texttospeech.VoiceSelectionParams(\n",
    "        language_code=\"yue-HK\",\n",
    "        ssml_gender = texttospeech.SsmlVoiceGender.FEMALE,\n",
    "        name = \"yue-HK-Standard-A\",\n",
    "    )\n",
    "\n",
    "    # Note: you can pass in multiple effects_profile_id. They will be applied\n",
    "    # in the same order they are provided.\n",
    "    audio_config = texttospeech.AudioConfig(\n",
    "        audio_encoding=texttospeech.AudioEncoding.LINEAR16,\n",
    "        effects_profile_id=[effects_profile_id],\n",
    "    )\n",
    "\n",
    "    response = client.synthesize_speech(\n",
    "        input=input_text, voice=voice, audio_config=audio_config\n",
    "    )\n",
    "\n",
    "    # The response's audio_content is binary.\n",
    "    with open(output, \"wb\") as out:\n",
    "        out.write(response.audio_content)\n",
    "        print('Audio content written to file \"%s\"' % output)\n",
    "    return output"
   ]
  },
  {
   "cell_type": "code",
   "execution_count": 11,
   "metadata": {},
   "outputs": [
    {
     "name": "stdout",
     "output_type": "stream",
     "text": [
      "Audio content written to file \"test.wav\"\n"
     ]
    },
    {
     "data": {
      "text/plain": [
       "'test.wav'"
      ]
     },
     "execution_count": 11,
     "metadata": {},
     "output_type": "execute_result"
    }
   ],
   "source": [
    "synthesize_text_with_audio_profile(text=\"你好，你今日过的点啊\", output=\"test.wav\", effects_profile_id=\"telephony-class-application\")"
   ]
  },
  {
   "cell_type": "code",
   "execution_count": null,
   "metadata": {},
   "outputs": [],
   "source": []
  }
 ],
 "metadata": {
  "kernelspec": {
   "display_name": "venv",
   "language": "python",
   "name": "python3"
  },
  "language_info": {
   "codemirror_mode": {
    "name": "ipython",
    "version": 3
   },
   "file_extension": ".py",
   "mimetype": "text/x-python",
   "name": "python",
   "nbconvert_exporter": "python",
   "pygments_lexer": "ipython3",
   "version": "3.11.5"
  }
 },
 "nbformat": 4,
 "nbformat_minor": 2
}
