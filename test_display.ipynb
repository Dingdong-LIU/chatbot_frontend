{
 "cells": [
  {
   "cell_type": "code",
   "execution_count": 1,
   "metadata": {},
   "outputs": [],
   "source": [
    "%load_ext autoreload\n",
    "%autoreload 2"
   ]
  },
  {
   "cell_type": "code",
   "execution_count": 2,
   "metadata": {},
   "outputs": [],
   "source": [
    "import pandas as pd\n",
    "import requests\n",
    "\n",
    "NGROK_DOMAIN = \"http://eez115.ece.ust.hk:5000/\"\n",
    "# NGROK_DOMAIN = \"http://localhost:8080/\"\n",
    "session_id = 494016298\n",
    "\n",
    "\n",
    "response = requests.post(f\"{NGROK_DOMAIN}/get_paf_result\", json={\"session_id\": session_id})\n",
    "response = response.json()\n",
    "response_data = response.get(\"responses\", {})\n",
    "conversation_history = response_data.pop(\"conversation_history\", None)\n",
    "table = pd.DataFrame.from_dict(response_data, orient='index')"
   ]
  },
  {
   "cell_type": "code",
   "execution_count": 3,
   "metadata": {},
   "outputs": [
    {
     "data": {
      "text/plain": [
       "[{'role': 'Grace', 'utterance': '你好啊！我喺 Grace。你今日覺得點啊？'},\n",
       " {'role': 'Patient', 'utterance': '好呀'},\n",
       " {'role': 'Grace', 'utterance': '請問你有冇咳？'},\n",
       " {'role': 'Patient', 'utterance': '冇呀'},\n",
       " {'role': 'Grace', 'utterance': '冇咳。有冇痰呀？'},\n",
       " {'role': 'Patient', 'utterance': '冇尋'},\n",
       " {'role': 'Grace', 'utterance': '你喺過去三個月有冇無緣無故變瘦？'},\n",
       " {'role': 'Patient', 'utterance': '冇呀'},\n",
       " {'role': 'Grace', 'utterance': '胃口點呀？有冇唔想食嘢？'},\n",
       " {'role': 'Patient', 'utterance': '冇呀\\n你好唔好'},\n",
       " {'role': 'Grace', 'utterance': '好嘅。你有冇特別嘅嘢唔食㗎？ 例如豬，牛，雞？ 又或者你係食素嘅？'},\n",
       " {'role': 'Patient', 'utterance': '冇呀冇'},\n",
       " {'role': 'Grace', 'utterance': '好多謝你嘅時間，我已經將你所有嘅答案記錄曬。'},\n",
       " {'role': 'Patient', 'utterance': 'please repeat'}]"
      ]
     },
     "execution_count": 3,
     "metadata": {},
     "output_type": "execute_result"
    }
   ],
   "source": [
    "conversation_history"
   ]
  },
  {
   "cell_type": "code",
   "execution_count": 4,
   "metadata": {},
   "outputs": [
    {
     "data": {
      "text/html": [
       "<div>\n",
       "<style scoped>\n",
       "    .dataframe tbody tr th:only-of-type {\n",
       "        vertical-align: middle;\n",
       "    }\n",
       "\n",
       "    .dataframe tbody tr th {\n",
       "        vertical-align: top;\n",
       "    }\n",
       "\n",
       "    .dataframe thead th {\n",
       "        text-align: right;\n",
       "    }\n",
       "</style>\n",
       "<table border=\"1\" class=\"dataframe\">\n",
       "  <thead>\n",
       "    <tr style=\"text-align: right;\">\n",
       "      <th></th>\n",
       "      <th>patient_answer</th>\n",
       "      <th>question_asked</th>\n",
       "      <th>session_id</th>\n",
       "      <th>slot_name</th>\n",
       "      <th>slot_value</th>\n",
       "    </tr>\n",
       "  </thead>\n",
       "  <tbody>\n",
       "    <tr>\n",
       "      <th>q1_0_coughing_existance</th>\n",
       "      <td>冇呀</td>\n",
       "      <td>請問你有冇咳？</td>\n",
       "      <td>494016298</td>\n",
       "      <td>cough_existence</td>\n",
       "      <td>no</td>\n",
       "    </tr>\n",
       "    <tr>\n",
       "      <th>q2_0_sputum_existance</th>\n",
       "      <td>冇尋</td>\n",
       "      <td>有冇痰呀？</td>\n",
       "      <td>494016298</td>\n",
       "      <td>sputum_existence</td>\n",
       "      <td>no</td>\n",
       "    </tr>\n",
       "    <tr>\n",
       "      <th>q5_0_lose_weight_existance</th>\n",
       "      <td>冇呀</td>\n",
       "      <td>你喺過去三個月有冇無緣無故變瘦？</td>\n",
       "      <td>494016298</td>\n",
       "      <td>weight_loss_existance</td>\n",
       "      <td>no</td>\n",
       "    </tr>\n",
       "    <tr>\n",
       "      <th>q5_2_decreased_appetite</th>\n",
       "      <td>冇呀\\n你好唔好</td>\n",
       "      <td>胃口點呀？有冇唔想食嘢？</td>\n",
       "      <td>494016298</td>\n",
       "      <td>appetite_loss</td>\n",
       "      <td>no</td>\n",
       "    </tr>\n",
       "    <tr>\n",
       "      <th>q7_2_food_preference</th>\n",
       "      <td>冇呀冇</td>\n",
       "      <td>你有冇特別嘅嘢唔食㗎？ 例如豬，牛，雞？ 又或者你係食素嘅？</td>\n",
       "      <td>494016298</td>\n",
       "      <td>food_preference</td>\n",
       "      <td>no preference</td>\n",
       "    </tr>\n",
       "  </tbody>\n",
       "</table>\n",
       "</div>"
      ],
      "text/plain": [
       "                           patient_answer                  question_asked  \\\n",
       "q1_0_coughing_existance                冇呀                         請問你有冇咳？   \n",
       "q2_0_sputum_existance                  冇尋                           有冇痰呀？   \n",
       "q5_0_lose_weight_existance             冇呀                你喺過去三個月有冇無緣無故變瘦？   \n",
       "q5_2_decreased_appetite          冇呀\\n你好唔好                    胃口點呀？有冇唔想食嘢？   \n",
       "q7_2_food_preference                  冇呀冇  你有冇特別嘅嘢唔食㗎？ 例如豬，牛，雞？ 又或者你係食素嘅？   \n",
       "\n",
       "                            session_id              slot_name     slot_value  \n",
       "q1_0_coughing_existance      494016298        cough_existence             no  \n",
       "q2_0_sputum_existance        494016298       sputum_existence             no  \n",
       "q5_0_lose_weight_existance   494016298  weight_loss_existance             no  \n",
       "q5_2_decreased_appetite      494016298          appetite_loss             no  \n",
       "q7_2_food_preference         494016298        food_preference  no preference  "
      ]
     },
     "execution_count": 4,
     "metadata": {},
     "output_type": "execute_result"
    }
   ],
   "source": [
    "table"
   ]
  },
  {
   "cell_type": "code",
   "execution_count": 5,
   "metadata": {},
   "outputs": [
    {
     "data": {
      "text/html": [
       "<div>\n",
       "<style scoped>\n",
       "    .dataframe tbody tr th:only-of-type {\n",
       "        vertical-align: middle;\n",
       "    }\n",
       "\n",
       "    .dataframe tbody tr th {\n",
       "        vertical-align: top;\n",
       "    }\n",
       "\n",
       "    .dataframe thead th {\n",
       "        text-align: right;\n",
       "    }\n",
       "</style>\n",
       "<table border=\"1\" class=\"dataframe\">\n",
       "  <thead>\n",
       "    <tr style=\"text-align: right;\">\n",
       "      <th></th>\n",
       "      <th>session_id</th>\n",
       "      <th>slot_name</th>\n",
       "      <th>question_asked</th>\n",
       "      <th>slot_value</th>\n",
       "    </tr>\n",
       "  </thead>\n",
       "  <tbody>\n",
       "    <tr>\n",
       "      <th>0</th>\n",
       "      <td>494016298</td>\n",
       "      <td>cough_existence</td>\n",
       "      <td>請問你有冇咳？</td>\n",
       "      <td>no</td>\n",
       "    </tr>\n",
       "    <tr>\n",
       "      <th>1</th>\n",
       "      <td>494016298</td>\n",
       "      <td>sputum_existence</td>\n",
       "      <td>有冇痰呀？</td>\n",
       "      <td>no</td>\n",
       "    </tr>\n",
       "    <tr>\n",
       "      <th>2</th>\n",
       "      <td>494016298</td>\n",
       "      <td>weight_loss_existance</td>\n",
       "      <td>你喺過去三個月有冇無緣無故變瘦？</td>\n",
       "      <td>no</td>\n",
       "    </tr>\n",
       "    <tr>\n",
       "      <th>3</th>\n",
       "      <td>494016298</td>\n",
       "      <td>appetite_loss</td>\n",
       "      <td>胃口點呀？有冇唔想食嘢？</td>\n",
       "      <td>no</td>\n",
       "    </tr>\n",
       "    <tr>\n",
       "      <th>4</th>\n",
       "      <td>494016298</td>\n",
       "      <td>food_preference</td>\n",
       "      <td>你有冇特別嘅嘢唔食㗎？ 例如豬，牛，雞？ 又或者你係食素嘅？</td>\n",
       "      <td>no preference</td>\n",
       "    </tr>\n",
       "  </tbody>\n",
       "</table>\n",
       "</div>"
      ],
      "text/plain": [
       "   session_id              slot_name                  question_asked  \\\n",
       "0   494016298        cough_existence                         請問你有冇咳？   \n",
       "1   494016298       sputum_existence                           有冇痰呀？   \n",
       "2   494016298  weight_loss_existance                你喺過去三個月有冇無緣無故變瘦？   \n",
       "3   494016298          appetite_loss                    胃口點呀？有冇唔想食嘢？   \n",
       "4   494016298        food_preference  你有冇特別嘅嘢唔食㗎？ 例如豬，牛，雞？ 又或者你係食素嘅？   \n",
       "\n",
       "      slot_value  \n",
       "0             no  \n",
       "1             no  \n",
       "2             no  \n",
       "3             no  \n",
       "4  no preference  "
      ]
     },
     "execution_count": 5,
     "metadata": {},
     "output_type": "execute_result"
    }
   ],
   "source": [
    "table.reset_index(drop=True)[[\"session_id\", \"slot_name\", \"question_asked\",\"slot_value\"]]"
   ]
  },
  {
   "cell_type": "code",
   "execution_count": 6,
   "metadata": {},
   "outputs": [
    {
     "data": {
      "text/plain": [
       "array(['cough_existence', 'sputum_existence', 'weight_loss_existance',\n",
       "       'appetite_loss', 'food_preference'], dtype=object)"
      ]
     },
     "execution_count": 6,
     "metadata": {},
     "output_type": "execute_result"
    }
   ],
   "source": [
    "table.slot_name.unique()"
   ]
  },
  {
   "cell_type": "code",
   "execution_count": 7,
   "metadata": {},
   "outputs": [
    {
     "data": {
      "text/html": [
       "<div>\n",
       "<style scoped>\n",
       "    .dataframe tbody tr th:only-of-type {\n",
       "        vertical-align: middle;\n",
       "    }\n",
       "\n",
       "    .dataframe tbody tr th {\n",
       "        vertical-align: top;\n",
       "    }\n",
       "\n",
       "    .dataframe thead th {\n",
       "        text-align: right;\n",
       "    }\n",
       "</style>\n",
       "<table border=\"1\" class=\"dataframe\">\n",
       "  <thead>\n",
       "    <tr style=\"text-align: right;\">\n",
       "      <th></th>\n",
       "      <th>PAF_Question</th>\n",
       "      <th>PAF_Result</th>\n",
       "    </tr>\n",
       "  </thead>\n",
       "  <tbody>\n",
       "    <tr>\n",
       "      <th>1</th>\n",
       "      <td>Coughing 請問有冇咳？</td>\n",
       "      <td>☑️ No \\t ☐ Yes</td>\n",
       "    </tr>\n",
       "    <tr>\n",
       "      <th>2</th>\n",
       "      <td>Sputum 請問有冇痰？</td>\n",
       "      <td>☑️ No \\t ☐ Yes</td>\n",
       "    </tr>\n",
       "    <tr>\n",
       "      <th>2.1</th>\n",
       "      <td>\\t – \\t Sputum Amount 有痰的話，有幾多量？</td>\n",
       "      <td>N.A.</td>\n",
       "    </tr>\n",
       "    <tr>\n",
       "      <th>2.2</th>\n",
       "      <td>\\t – \\t Sputum Color 痰顏色係咩？</td>\n",
       "      <td>N.A.</td>\n",
       "    </tr>\n",
       "    <tr>\n",
       "      <th>3</th>\n",
       "      <td>Weight Loss 有冇體重下降？</td>\n",
       "      <td>☑️ No \\t ☐ Yes</td>\n",
       "    </tr>\n",
       "    <tr>\n",
       "      <th>3.1</th>\n",
       "      <td>\\t – \\t Weight Loss Amount 輕咗幾多？</td>\n",
       "      <td>N.A.</td>\n",
       "    </tr>\n",
       "    <tr>\n",
       "      <th>4</th>\n",
       "      <td>Appetite Loss 胃口差别？</td>\n",
       "      <td>☑️ No \\t ☐ Yes</td>\n",
       "    </tr>\n",
       "    <tr>\n",
       "      <th>5</th>\n",
       "      <td>Food Preference 咩唔食？</td>\n",
       "      <td>no preference</td>\n",
       "    </tr>\n",
       "  </tbody>\n",
       "</table>\n",
       "</div>"
      ],
      "text/plain": [
       "                         PAF_Question      PAF_Result\n",
       "1                     Coughing 請問有冇咳？  ☑️ No \\t ☐ Yes\n",
       "2                       Sputum 請問有冇痰？  ☑️ No \\t ☐ Yes\n",
       "2.1  \\t – \\t Sputum Amount 有痰的話，有幾多量？            N.A.\n",
       "2.2       \\t – \\t Sputum Color 痰顏色係咩？            N.A.\n",
       "3                 Weight Loss 有冇體重下降？  ☑️ No \\t ☐ Yes\n",
       "3.1  \\t – \\t Weight Loss Amount 輕咗幾多？            N.A.\n",
       "4                 Appetite Loss 胃口差别？  ☑️ No \\t ☐ Yes\n",
       "5                Food Preference 咩唔食？   no preference"
      ]
     },
     "execution_count": 7,
     "metadata": {},
     "output_type": "execute_result"
    }
   ],
   "source": [
    "from fill_PAF_table import fill_paf_table\n",
    "\n",
    "tab = fill_paf_table(response.get(\"responses\", {}))\n",
    "tab"
   ]
  },
  {
   "cell_type": "code",
   "execution_count": 8,
   "metadata": {},
   "outputs": [],
   "source": [
    "session_info = requests.post(f\"{NGROK_DOMAIN}/get_session_info\", json={\"session_id\": session_id})\n",
    "session_info = session_info.json()"
   ]
  },
  {
   "cell_type": "code",
   "execution_count": 9,
   "metadata": {},
   "outputs": [
    {
     "data": {
      "text/plain": [
       "{'responses': {'curr_question_id': 'initial_status',\n",
       "  'grace_uttrs_history': ['initial_status'],\n",
       "  'history': ['initial_status'],\n",
       "  'q_tracker': ['initial_status'],\n",
       "  'session_id': 494016298,\n",
       "  'user_uttrs_history': []}}"
      ]
     },
     "execution_count": 9,
     "metadata": {},
     "output_type": "execute_result"
    }
   ],
   "source": [
    "session_info"
   ]
  },
  {
   "cell_type": "code",
   "execution_count": null,
   "metadata": {},
   "outputs": [],
   "source": []
  }
 ],
 "metadata": {
  "kernelspec": {
   "display_name": "venv",
   "language": "python",
   "name": "python3"
  },
  "language_info": {
   "codemirror_mode": {
    "name": "ipython",
    "version": 3
   },
   "file_extension": ".py",
   "mimetype": "text/x-python",
   "name": "python",
   "nbconvert_exporter": "python",
   "pygments_lexer": "ipython3",
   "version": "3.11.5"
  }
 },
 "nbformat": 4,
 "nbformat_minor": 2
}
