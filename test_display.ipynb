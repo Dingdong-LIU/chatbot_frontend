{
 "cells": [
  {
   "cell_type": "code",
   "execution_count": 6,
   "metadata": {},
   "outputs": [],
   "source": [
    "import pandas as pd\n",
    "import requests\n",
    "\n",
    "NGROK_DOMAIN = \"http://localhost:8080/\"\n",
    "session_id = 102292667\n",
    "\n",
    "\n",
    "response = requests.post(f\"{NGROK_DOMAIN}/get_paf_result\", json={\"session_id\": session_id})\n",
    "response = response.json()\n",
    "table = pd.DataFrame.from_dict(response.get(\"responses\", {}), orient='index')"
   ]
  },
  {
   "cell_type": "code",
   "execution_count": 10,
   "metadata": {},
   "outputs": [
    {
     "data": {
      "text/html": [
       "<div>\n",
       "<style scoped>\n",
       "    .dataframe tbody tr th:only-of-type {\n",
       "        vertical-align: middle;\n",
       "    }\n",
       "\n",
       "    .dataframe tbody tr th {\n",
       "        vertical-align: top;\n",
       "    }\n",
       "\n",
       "    .dataframe thead th {\n",
       "        text-align: right;\n",
       "    }\n",
       "</style>\n",
       "<table border=\"1\" class=\"dataframe\">\n",
       "  <thead>\n",
       "    <tr style=\"text-align: right;\">\n",
       "      <th></th>\n",
       "      <th>session_id</th>\n",
       "      <th>slot_name</th>\n",
       "      <th>question_asked</th>\n",
       "      <th>slot_value</th>\n",
       "    </tr>\n",
       "  </thead>\n",
       "  <tbody>\n",
       "    <tr>\n",
       "      <th>0</th>\n",
       "      <td>102292667</td>\n",
       "      <td>cough_existence</td>\n",
       "      <td>有咳嘅。你會唔會咳痰呀？</td>\n",
       "      <td>yes</td>\n",
       "    </tr>\n",
       "    <tr>\n",
       "      <th>1</th>\n",
       "      <td>102292667</td>\n",
       "      <td>sputum_existence</td>\n",
       "      <td>有痰呀,你咳嗽時候,係咪咳出好多痰,定係只係少少？</td>\n",
       "      <td>yes</td>\n",
       "    </tr>\n",
       "    <tr>\n",
       "      <th>2</th>\n",
       "      <td>102292667</td>\n",
       "      <td>sputum_amount</td>\n",
       "      <td>你見到嘅痰，係透明、黃色，定係有其他顏色？</td>\n",
       "      <td>the patient has experienced a lot of sputum.</td>\n",
       "    </tr>\n",
       "    <tr>\n",
       "      <th>3</th>\n",
       "      <td>102292667</td>\n",
       "      <td>sputum_color</td>\n",
       "      <td>三個月來，有冇試過失足或者摔跤呀？</td>\n",
       "      <td>the patient's sputum color is yellow.</td>\n",
       "    </tr>\n",
       "    <tr>\n",
       "      <th>4</th>\n",
       "      <td>102292667</td>\n",
       "      <td>history_of_falling</td>\n",
       "      <td>你行路時，需唔需要手揸住嘢幫手平衡？</td>\n",
       "      <td>yes</td>\n",
       "    </tr>\n",
       "  </tbody>\n",
       "</table>\n",
       "</div>"
      ],
      "text/plain": [
       "   session_id           slot_name             question_asked  \\\n",
       "0   102292667     cough_existence               有咳嘅。你會唔會咳痰呀？   \n",
       "1   102292667    sputum_existence  有痰呀,你咳嗽時候,係咪咳出好多痰,定係只係少少？   \n",
       "2   102292667       sputum_amount      你見到嘅痰，係透明、黃色，定係有其他顏色？   \n",
       "3   102292667        sputum_color          三個月來，有冇試過失足或者摔跤呀？   \n",
       "4   102292667  history_of_falling         你行路時，需唔需要手揸住嘢幫手平衡？   \n",
       "\n",
       "                                     slot_value  \n",
       "0                                           yes  \n",
       "1                                           yes  \n",
       "2  the patient has experienced a lot of sputum.  \n",
       "3         the patient's sputum color is yellow.  \n",
       "4                                           yes  "
      ]
     },
     "execution_count": 10,
     "metadata": {},
     "output_type": "execute_result"
    }
   ],
   "source": [
    "table.reset_index(drop=True)[[\"session_id\", \"slot_name\", \"question_asked\",\"slot_value\"]]"
   ]
  },
  {
   "cell_type": "code",
   "execution_count": null,
   "metadata": {},
   "outputs": [],
   "source": []
  }
 ],
 "metadata": {
  "kernelspec": {
   "display_name": "venv",
   "language": "python",
   "name": "python3"
  },
  "language_info": {
   "codemirror_mode": {
    "name": "ipython",
    "version": 3
   },
   "file_extension": ".py",
   "mimetype": "text/x-python",
   "name": "python",
   "nbconvert_exporter": "python",
   "pygments_lexer": "ipython3",
   "version": "3.11.5"
  }
 },
 "nbformat": 4,
 "nbformat_minor": 2
}
